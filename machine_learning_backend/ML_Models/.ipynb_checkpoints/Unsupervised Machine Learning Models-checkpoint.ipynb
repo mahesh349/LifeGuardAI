{
 "cells": [
  {
   "cell_type": "markdown",
   "id": "41cd0957",
   "metadata": {},
   "source": [
    "# Loading Important Libraries"
   ]
  },
  {
   "cell_type": "code",
   "execution_count": 1,
   "id": "d7ab175f",
   "metadata": {},
   "outputs": [],
   "source": [
    "import pandas as pd\n",
    "import numpy as np\n",
    "\n",
    "# Train test for splitting for learning\n",
    "from sklearn.model_selection import train_test_split\n",
    "\n",
    "# Machine Learning Models validation and score metrics\n",
    "from sklearn.model_selection import cross_validate\n",
    "from sklearn.model_selection import cross_val_score\n",
    "from sklearn.model_selection import ShuffleSplit\n",
    "import warnings\n",
    "\n",
    "\n",
    "from sklearn.feature_selection import SelectKBest, chi2,f_classif,RFE\n",
    "from sklearn.metrics import silhouette_score\n",
    "from sklearn.metrics import roc_auc_score\n",
    "\n",
    "from sklearn.model_selection import GridSearchCV\n",
    "\n",
    "\n",
    "\n",
    "# Classification and plotting graph\n",
    "from sklearn.metrics import classification_report\n",
    "import matplotlib.pyplot as plt\n",
    "from sklearn.metrics import confusion_matrix\n",
    "import seaborn as sns\n",
    "\n",
    "# Unsupervised Machine Learning\n",
    "from sklearn.neighbors import KNeighborsClassifier\n",
    "from sklearn.cluster import KMeans\n",
    "from sklearn.cluster import DBSCAN"
   ]
  },
  {
   "cell_type": "markdown",
   "id": "e4caf2c5",
   "metadata": {},
   "source": [
    "# Imported Transformed Database"
   ]
  },
  {
   "cell_type": "code",
   "execution_count": 2,
   "id": "51d737e6",
   "metadata": {},
   "outputs": [
    {
     "data": {
      "text/html": [
       "<div>\n",
       "<style scoped>\n",
       "    .dataframe tbody tr th:only-of-type {\n",
       "        vertical-align: middle;\n",
       "    }\n",
       "\n",
       "    .dataframe tbody tr th {\n",
       "        vertical-align: top;\n",
       "    }\n",
       "\n",
       "    .dataframe thead th {\n",
       "        text-align: right;\n",
       "    }\n",
       "</style>\n",
       "<table border=\"1\" class=\"dataframe\">\n",
       "  <thead>\n",
       "    <tr style=\"text-align: right;\">\n",
       "      <th></th>\n",
       "      <th>age</th>\n",
       "      <th>gender</th>\n",
       "      <th>height</th>\n",
       "      <th>weight</th>\n",
       "      <th>ap_hi</th>\n",
       "      <th>ap_lo</th>\n",
       "      <th>cholesterol</th>\n",
       "      <th>gluc</th>\n",
       "      <th>smoke</th>\n",
       "      <th>alco</th>\n",
       "      <th>active</th>\n",
       "      <th>cardio</th>\n",
       "    </tr>\n",
       "  </thead>\n",
       "  <tbody>\n",
       "    <tr>\n",
       "      <th>0</th>\n",
       "      <td>50.391781</td>\n",
       "      <td>2</td>\n",
       "      <td>168</td>\n",
       "      <td>62.0</td>\n",
       "      <td>110</td>\n",
       "      <td>80</td>\n",
       "      <td>1</td>\n",
       "      <td>1</td>\n",
       "      <td>0</td>\n",
       "      <td>0</td>\n",
       "      <td>1</td>\n",
       "      <td>0</td>\n",
       "    </tr>\n",
       "    <tr>\n",
       "      <th>1</th>\n",
       "      <td>55.419178</td>\n",
       "      <td>1</td>\n",
       "      <td>156</td>\n",
       "      <td>85.0</td>\n",
       "      <td>140</td>\n",
       "      <td>90</td>\n",
       "      <td>3</td>\n",
       "      <td>1</td>\n",
       "      <td>0</td>\n",
       "      <td>0</td>\n",
       "      <td>1</td>\n",
       "      <td>1</td>\n",
       "    </tr>\n",
       "    <tr>\n",
       "      <th>2</th>\n",
       "      <td>51.663014</td>\n",
       "      <td>1</td>\n",
       "      <td>165</td>\n",
       "      <td>64.0</td>\n",
       "      <td>130</td>\n",
       "      <td>70</td>\n",
       "      <td>3</td>\n",
       "      <td>1</td>\n",
       "      <td>0</td>\n",
       "      <td>0</td>\n",
       "      <td>0</td>\n",
       "      <td>1</td>\n",
       "    </tr>\n",
       "    <tr>\n",
       "      <th>3</th>\n",
       "      <td>48.282192</td>\n",
       "      <td>2</td>\n",
       "      <td>169</td>\n",
       "      <td>82.0</td>\n",
       "      <td>150</td>\n",
       "      <td>100</td>\n",
       "      <td>1</td>\n",
       "      <td>1</td>\n",
       "      <td>0</td>\n",
       "      <td>0</td>\n",
       "      <td>1</td>\n",
       "      <td>1</td>\n",
       "    </tr>\n",
       "    <tr>\n",
       "      <th>4</th>\n",
       "      <td>47.873973</td>\n",
       "      <td>1</td>\n",
       "      <td>156</td>\n",
       "      <td>56.0</td>\n",
       "      <td>100</td>\n",
       "      <td>60</td>\n",
       "      <td>1</td>\n",
       "      <td>1</td>\n",
       "      <td>0</td>\n",
       "      <td>0</td>\n",
       "      <td>0</td>\n",
       "      <td>0</td>\n",
       "    </tr>\n",
       "    <tr>\n",
       "      <th>5</th>\n",
       "      <td>60.038356</td>\n",
       "      <td>1</td>\n",
       "      <td>151</td>\n",
       "      <td>67.0</td>\n",
       "      <td>120</td>\n",
       "      <td>80</td>\n",
       "      <td>2</td>\n",
       "      <td>2</td>\n",
       "      <td>0</td>\n",
       "      <td>0</td>\n",
       "      <td>0</td>\n",
       "      <td>0</td>\n",
       "    </tr>\n",
       "    <tr>\n",
       "      <th>6</th>\n",
       "      <td>60.583562</td>\n",
       "      <td>1</td>\n",
       "      <td>157</td>\n",
       "      <td>93.0</td>\n",
       "      <td>130</td>\n",
       "      <td>80</td>\n",
       "      <td>3</td>\n",
       "      <td>1</td>\n",
       "      <td>0</td>\n",
       "      <td>0</td>\n",
       "      <td>1</td>\n",
       "      <td>0</td>\n",
       "    </tr>\n",
       "    <tr>\n",
       "      <th>7</th>\n",
       "      <td>61.873973</td>\n",
       "      <td>2</td>\n",
       "      <td>178</td>\n",
       "      <td>95.0</td>\n",
       "      <td>130</td>\n",
       "      <td>90</td>\n",
       "      <td>3</td>\n",
       "      <td>3</td>\n",
       "      <td>0</td>\n",
       "      <td>0</td>\n",
       "      <td>1</td>\n",
       "      <td>1</td>\n",
       "    </tr>\n",
       "    <tr>\n",
       "      <th>8</th>\n",
       "      <td>48.405479</td>\n",
       "      <td>1</td>\n",
       "      <td>158</td>\n",
       "      <td>71.0</td>\n",
       "      <td>110</td>\n",
       "      <td>70</td>\n",
       "      <td>1</td>\n",
       "      <td>1</td>\n",
       "      <td>0</td>\n",
       "      <td>0</td>\n",
       "      <td>1</td>\n",
       "      <td>0</td>\n",
       "    </tr>\n",
       "    <tr>\n",
       "      <th>9</th>\n",
       "      <td>54.339726</td>\n",
       "      <td>1</td>\n",
       "      <td>164</td>\n",
       "      <td>68.0</td>\n",
       "      <td>110</td>\n",
       "      <td>60</td>\n",
       "      <td>1</td>\n",
       "      <td>1</td>\n",
       "      <td>0</td>\n",
       "      <td>0</td>\n",
       "      <td>0</td>\n",
       "      <td>0</td>\n",
       "    </tr>\n",
       "  </tbody>\n",
       "</table>\n",
       "</div>"
      ],
      "text/plain": [
       "         age  gender  height  weight  ap_hi  ap_lo  cholesterol  gluc  smoke  \\\n",
       "0  50.391781       2     168    62.0    110     80            1     1      0   \n",
       "1  55.419178       1     156    85.0    140     90            3     1      0   \n",
       "2  51.663014       1     165    64.0    130     70            3     1      0   \n",
       "3  48.282192       2     169    82.0    150    100            1     1      0   \n",
       "4  47.873973       1     156    56.0    100     60            1     1      0   \n",
       "5  60.038356       1     151    67.0    120     80            2     2      0   \n",
       "6  60.583562       1     157    93.0    130     80            3     1      0   \n",
       "7  61.873973       2     178    95.0    130     90            3     3      0   \n",
       "8  48.405479       1     158    71.0    110     70            1     1      0   \n",
       "9  54.339726       1     164    68.0    110     60            1     1      0   \n",
       "\n",
       "   alco  active  cardio  \n",
       "0     0       1       0  \n",
       "1     0       1       1  \n",
       "2     0       0       1  \n",
       "3     0       1       1  \n",
       "4     0       0       0  \n",
       "5     0       0       0  \n",
       "6     0       1       0  \n",
       "7     0       1       1  \n",
       "8     0       1       0  \n",
       "9     0       0       0  "
      ]
     },
     "execution_count": 2,
     "metadata": {},
     "output_type": "execute_result"
    }
   ],
   "source": [
    "df=pd.read_csv(\"transformed_CVD_data.csv\")\n",
    "df.head(10)"
   ]
  },
  {
   "cell_type": "markdown",
   "id": "a88ffd40",
   "metadata": {},
   "source": [
    "# Data Split Into Features & Target"
   ]
  },
  {
   "cell_type": "code",
   "execution_count": 3,
   "id": "c907bd1b",
   "metadata": {},
   "outputs": [],
   "source": [
    "y=df['cardio']\n",
    "x=df.drop(['cardio'],axis=1)"
   ]
  },
  {
   "cell_type": "code",
   "execution_count": 4,
   "id": "76e7c3bf",
   "metadata": {},
   "outputs": [],
   "source": [
    "#stratifing the data for equalizing the classification\n",
    "xtr,xts,ytr,yts=train_test_split(x,y,test_size=0.25,random_state=23,stratify=y)"
   ]
  },
  {
   "cell_type": "markdown",
   "id": "537a8326",
   "metadata": {},
   "source": [
    "# Semi Labeled Machine Learning Model"
   ]
  },
  {
   "cell_type": "code",
   "execution_count": 6,
   "id": "b94461e3",
   "metadata": {},
   "outputs": [
    {
     "data": {
      "text/plain": [
       "Text(0, 0.5, 'Error Rate')"
      ]
     },
     "execution_count": 6,
     "metadata": {},
     "output_type": "execute_result"
    },
    {
     "data": {
      "image/png": "[encoded data removed]",
      "text/plain": [
       "<Figure size 1000x600 with 1 Axes>"
      ]
     },
     "metadata": {},
     "output_type": "display_data"
    }
   ],
   "source": [
    "error_rate = []\n",
    "for i in range(1,40):\n",
    "    knn_model1 = KNeighborsClassifier(n_neighbors=i)\n",
    "    knn_model1.fit(xtr,ytr)\n",
    "    pred_i = knn_model1.predict(xts)\n",
    "    error_rate.append(np.mean(pred_i != yts))\n",
    "plt.figure(figsize=(10,6))\n",
    "plt.plot(range(1,40),error_rate,color=\"blue\", linestyle=\"dashed\", marker=\"o\",\n",
    " markerfacecolor=\"red\", markersize=10)\n",
    "plt.title(\"Error Rate vs. K Value\")\n",
    "plt.xlabel(\"K\")\n",
    "plt.ylabel(\"Error Rate\")"
   ]
  },
  {
   "cell_type": "markdown",
   "id": "503e4c8e",
   "metadata": {},
   "source": [
    "# Refactored Code"
   ]
  },
  {
   "cell_type": "code",
   "execution_count": 5,
   "id": "9371ead6",
   "metadata": {},
   "outputs": [
    {
     "data": {
      "text/plain": [
       "Text(0, 0.5, 'Error Rate')"
      ]
     },
     "execution_count": 5,
     "metadata": {},
     "output_type": "execute_result"
    },
    {
     "data": {
      "image/png": "[encoded data removed]",
      "text/plain": [
       "<Figure size 1000x600 with 1 Axes>"
      ]
     },
     "metadata": {},
     "output_type": "display_data"
    }
   ],
   "source": [
    "# Refactored Code For the Elbow Curve\n",
    "error_rate = []\n",
    "# Verifing the Elbowcurve for the most suitable K Neighbour\n",
    "for i in range(1,40):\n",
    "    knn = KNeighborsClassifier(n_neighbors=i) # Instantiating the ML Model\n",
    "    knn.fit(xtr,ytr) # Fitting the training data with the model\n",
    "    pred_i = knn.predict(xts) # Predicting the test cases to verify accuracy\n",
    "    error_rate.append(np.mean(pred_i != yts))\n",
    "# Plotting the Elbow to determine K\n",
    "plt.figure(figsize=(10,6))\n",
    "plt.plot(range(1,40),error_rate,color=\"blue\", linestyle=\"dashed\", marker=\"o\",\n",
    " markerfacecolor=\"red\", markersize=10)\n",
    "plt.title(\"Error Rate vs. K Value\")\n",
    "plt.xlabel(\"K\")\n",
    "plt.ylabel(\"Error Rate\")"
   ]
  },
  {
   "cell_type": "code",
   "execution_count": 11,
   "id": "d388f569",
   "metadata": {},
   "outputs": [
    {
     "name": "stdout",
     "output_type": "stream",
     "text": [
      "KNeighborsClassifier(n_neighbors=8) Test Acurracy: 0.7041501976284585\n",
      "KNeighborsClassifier(n_neighbors=8) Classification Report:\n",
      "               precision    recall  f1-score   support\n",
      "\n",
      "           0       0.67      0.79      0.73      8608\n",
      "           1       0.73      0.60      0.66      8259\n",
      "\n",
      "    accuracy                           0.70     16867\n",
      "   macro avg       0.70      0.69      0.69     16867\n",
      "weighted avg       0.70      0.70      0.69     16867\n",
      "\n",
      "KNeighborsClassifier(n_neighbors=8) Confusion Matrix:\n",
      " [[6778 1830]\n",
      " [3290 4969]]\n"
     ]
    },
    {
     "data": {
      "text/plain": [
       "Text(8.222222222222223, 0.5, 'Predicted Value')"
      ]
     },
     "execution_count": 11,
     "metadata": {},
     "output_type": "execute_result"
    },
    {
     "data": {
      "image/png": "[encoded data removed]",
      "text/plain": [
       "<Figure size 300x300 with 2 Axes>"
      ]
     },
     "metadata": {},
     "output_type": "display_data"
    }
   ],
   "source": [
    "knn=KNeighborsClassifier(n_neighbors=8,weights='uniform', algorithm='auto', leaf_size=30, p=2, metric='minkowski')\n",
    "knn.fit(xtr,ytr)\n",
    "cv=ShuffleSplit(n_splits=5,test_size=0.3,random_state=0)\n",
    "scores = cross_val_score(knn, xtr, ytr, cv=cv)\n",
    "y_pred=knn.predict(xts)\n",
    "print(\"{} Test Acurracy: {}\".format(knn, max(scores)))\n",
    "\n",
    "print(\"{} Classification Report:\\n {}\".format(knn, classification_report(yts,y_pred)))\n",
    "\n",
    "print(\"{} Confusion Matrix:\\n {}\".format(knn, confusion_matrix(yts,y_pred)))\n",
    "plt.figure(figsize=(3,3))\n",
    "sns.heatmap(confusion_matrix(yts,y_pred),annot=True)\n",
    "plt.xlabel(\"Actual Value\")\n",
    "plt.ylabel(\"Predicted Value\")\n",
    "\n"
   ]
  },
  {
   "cell_type": "markdown",
   "id": "c2dea908",
   "metadata": {},
   "source": [
    "# K Means Algorithms"
   ]
  },
  {
   "cell_type": "code",
   "execution_count": 36,
   "id": "79e99f16",
   "metadata": {},
   "outputs": [
    {
     "name": "stdout",
     "output_type": "stream",
     "text": [
      "{'algorithm': 'lloyd', 'copy_x': True, 'init': 'k-means++', 'max_iter': 100, 'n_clusters': 7, 'n_init': 10, 'random_state': None, 'tol': 0.0001, 'verbose': 0}\n"
     ]
    }
   ],
   "source": [
    "\n",
    "def optimize_kmeans_hyperparameters(X, n_clusters_range, max_iter=100):\n",
    "\n",
    "    # Define the parameter grid.\n",
    "    param_grid = {\n",
    "      'n_clusters': n_clusters_range,\n",
    "      'init': ['k-means++'],\n",
    "      'max_iter': [max_iter],\n",
    "      \n",
    "    }\n",
    "\n",
    "    # Create a KMeans classifier.\n",
    "    kmeans = KMeans()\n",
    "\n",
    "    # Create a grid search object.\n",
    "    grid_search = GridSearchCV(kmeans, param_grid, cv=5)\n",
    "\n",
    "    # Fit the grid search object to the data.\n",
    "    grid_search.fit(X)\n",
    "\n",
    "    # Get the best hyperparameters.\n",
    "    best_params = grid_search.best_params_\n",
    "\n",
    "    # Fit the KMeans classifier with the best hyperparameters.\n",
    "    kmeans = KMeans(**best_params)\n",
    "    kmeans.fit(X)\n",
    "\n",
    "    # Return the fitted KMeans classifier.\n",
    "    return kmeans\n",
    "\n",
    "# Example usage:\n",
    "\n",
    "\n",
    "n_clusters_range = range(2, 8)\n",
    "\n",
    "# Optimize the K-means algorithm hyperparameters.\n",
    "kmeans = optimize_kmeans_hyperparameters(x, n_clusters_range)\n",
    "\n",
    "# Print the best hyperparameters.\n",
    "print(kmeans.get_params())\n"
   ]
  },
  {
   "cell_type": "code",
   "execution_count": 39,
   "id": "cdb2f1d9",
   "metadata": {},
   "outputs": [
    {
     "name": "stdout",
     "output_type": "stream",
     "text": [
      "KMeans(max_iter=100, n_clusters=2) Classification Report:\n",
      "               precision    recall  f1-score   support\n",
      "\n",
      "           0       0.67      0.84      0.74      8608\n",
      "           1       0.77      0.56      0.65      8259\n",
      "\n",
      "    accuracy                           0.70     16867\n",
      "   macro avg       0.72      0.70      0.70     16867\n",
      "weighted avg       0.72      0.70      0.70     16867\n",
      "\n",
      "KMeans(max_iter=100, n_clusters=2) Confusion Matrix:\n",
      " [[7243 1365]\n",
      " [3640 4619]]\n"
     ]
    },
    {
     "data": {
      "text/plain": [
       "Text(8.222222222222223, 0.5, 'Predicted Value')"
      ]
     },
     "execution_count": 39,
     "metadata": {},
     "output_type": "execute_result"
    },
    {
     "data": {
      "image/png": "[encoded data removed]",
      "text/plain": [
       "<Figure size 300x300 with 2 Axes>"
      ]
     },
     "metadata": {},
     "output_type": "display_data"
    }
   ],
   "source": [
    "kmeans = KMeans(algorithm='lloyd', copy_x=True, init='k-means++', max_iter=100, n_clusters=2, n_init=10, random_state=None, tol=1e-4, verbose=0)\n",
    "kmeans.fit(xtr)\n",
    "cv=ShuffleSplit(n_splits=5,test_size=0.3,random_state=0)\n",
    "scores = cross_val_score(kmeans, xtr, cv=cv)\n",
    "y_pred=kmeans.predict(xts)\n",
    "\n",
    "print(\"{} Classification Report:\\n {}\".format(kmeans, classification_report(yts,y_pred)))\n",
    "\n",
    "print(\"{} Confusion Matrix:\\n {}\".format(kmeans, confusion_matrix(yts,y_pred)))\n",
    "plt.figure(figsize=(3,3))\n",
    "sns.heatmap(confusion_matrix(yts,y_pred),annot=True)\n",
    "plt.xlabel(\"Actual Value\")\n",
    "plt.ylabel(\"Predicted Value\")\n",
    "\n"
   ]
  },
  {
   "cell_type": "markdown",
   "id": "4eba38ad",
   "metadata": {},
   "source": [
    "# Refactored Code For Pipeline"
   ]
  },
  {
   "cell_type": "code",
   "execution_count": null,
   "id": "ba4ae31d",
   "metadata": {},
   "outputs": [],
   "source": [
    "from sklearn.pipeline import Pipeline\n",
    "from sklearn.cluster import KMeans, AgglomerativeClustering, Birch\n",
    "from sklearn.metrics import accuracy_score, classification_report\n",
    "\n",
    "# Create a pipeline for each algorithm\n",
    "kmeans_pipeline = Pipeline([\n",
    "    ('kmeans', KMeans(n_clusters=3))\n",
    "])\n",
    "\n",
    "agglomerative_clustering_pipeline = Pipeline([\n",
    "    ('agglomerative_clustering', AgglomerativeClustering(n_clusters=3))\n",
    "])\n",
    "\n",
    "hclustering_pipeline = Pipeline([\n",
    "    ('hclustering', Birch(n_clusters=3))\n",
    "])\n",
    "\n",
    "\n",
    "# Fit the pipelines to the data\n",
    "kmeans_pipeline.fit(xtr)\n",
    "agglomerative_clustering_pipeline.fit(xtr)\n",
    "hclustering_pipeline.fit(xtr)\n",
    "dbscan_pipeline.fit(xtr)\n",
    "\n",
    "# Make predictions\n",
    "kmeans_predictions = kmeans_pipeline.predict(xts)\n",
    "agglomerative_clustering_predictions = agglomerative_clustering_pipeline.predict(xts)\n",
    "hclustering_predictions = hclustering_pipeline.predict(xts)\n",
    "\n",
    "\n",
    "# Calculate the accuracy and classification report for each algorithm\n",
    "kmeans_accuracy = accuracy_score(yts, kmeans_predictions)\n",
    "agglomerative_clustering_accuracy = accuracy_score(yts, agglomerative_clustering_predictions)\n",
    "hclustering_accuracy = accuracy_score(yts, hclustering_predictions)\n",
    "\n",
    "kmeans_classification_report = classification_report(yts, kmeans_predictions)\n",
    "agglomerative_clustering_classification_report = classification_report(yts, agglomerative_clustering_predictions)\n",
    "hclustering_classification_report = classification_report(yts, hclustering_predictions)\n",
    "\n",
    "# Print the results\n",
    "print('KMeans accuracy:', kmeans_accuracy)\n",
    "print('Agglomerative Clustering accuracy:', agglomerative_clustering_accuracy)\n",
    "print('HClustering accuracy:', hclustering_accuracy)\n",
    "\n",
    "print('KMeans classification report:')\n",
    "print(kmeans_classification_report)\n",
    "\n",
    "print('Agglomerative Clustering classification report:')\n",
    "print(agglomerative_clustering_classification_report)\n",
    "\n",
    "print('HClustering classification report:')\n",
    "print(hclustering_classification_report)\n"
   ]
  },
  {
   "cell_type": "markdown",
   "id": "ab3545bc",
   "metadata": {},
   "source": [
    "# Pipeline Is Just A Trial For Future Work !!"
   ]
  },
  {
   "cell_type": "code",
   "execution_count": null,
   "id": "3fe30ae1",
   "metadata": {},
   "outputs": [],
   "source": []
  }
 ],
 "metadata": {
  "kernelspec": {
   "display_name": "Python 3 (ipykernel)",
   "language": "python",
   "name": "python3"
  },
  "language_info": {
   "codemirror_mode": {
    "name": "ipython",
    "version": 3
   },
   "file_extension": ".py",
   "mimetype": "text/x-python",
   "name": "python",
   "nbconvert_exporter": "python",
   "pygments_lexer": "ipython3",
   "version": "3.9.12"
  }
 },
 "nbformat": 4,
 "nbformat_minor": 5
}
