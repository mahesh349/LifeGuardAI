{
 "cells": [
  {
   "cell_type": "markdown",
   "id": "1a7ae7fa",
   "metadata": {},
   "source": [
    "# Important Libraries"
   ]
  },
  {
   "cell_type": "code",
   "execution_count": 3,
   "id": "da277167",
   "metadata": {},
   "outputs": [],
   "source": [
    "import pandas as pd\n",
    "import numpy as np\n",
    "from sklearn.model_selection import train_test_split\n",
    "\n",
    "from sklearn.model_selection import GridSearchCV\n",
    "from sklearn.model_selection import cross_validate\n",
    "from sklearn.model_selection import cross_val_score\n",
    "from sklearn.model_selection import ShuffleSplit\n",
    "\n",
    "\n",
    "from sklearn.linear_model import LogisticRegression\n",
    "from sklearn.ensemble import RandomForestClassifier\n",
    "from sklearn.datasets import make_classification\n",
    "import torch\n",
    "import torch.nn as nn # neural network\n",
    "import torch.nn.functional as F\n",
    "from xgboost import XGBClassifier\n",
    "from sklearn.ensemble import GradientBoostingClassifier\n",
    "from sklearn.pipeline import Pipeline\n",
    "from sklearn.preprocessing import StandardScaler\n",
    "from sklearn.decomposition import PCA\n",
    "from sklearn.model_selection import train_test_split\n",
    "from sklearn.svm import SVC\n",
    "\n",
    "from sklearn.feature_selection import SelectKBest, chi2,f_classif,RFE\n",
    "from sklearn.metrics import roc_auc_score\n",
    "\n",
    "from sklearn.tree import DecisionTreeClassifier\n",
    "from sklearn.ensemble import AdaBoostClassifier\n",
    "\n",
    "from sklearn.naive_bayes import GaussianNB\n",
    "from sklearn.metrics import classification_report\n",
    "import matplotlib.pyplot as plt\n",
    "from sklearn.metrics import confusion_matrix\n",
    "import seaborn as sns\n"
   ]
  },
  {
   "cell_type": "markdown",
   "id": "10240eb4",
   "metadata": {},
   "source": [
    "# Loading Transformed Dataset"
   ]
  },
  {
   "cell_type": "code",
   "execution_count": 23,
   "id": "d95c5df7",
   "metadata": {},
   "outputs": [
    {
     "data": {
      "text/html": [
       "<div>\n",
       "<style scoped>\n",
       "    .dataframe tbody tr th:only-of-type {\n",
       "        vertical-align: middle;\n",
       "    }\n",
       "\n",
       "    .dataframe tbody tr th {\n",
       "        vertical-align: top;\n",
       "    }\n",
       "\n",
       "    .dataframe thead th {\n",
       "        text-align: right;\n",
       "    }\n",
       "</style>\n",
       "<table border=\"1\" class=\"dataframe\">\n",
       "  <thead>\n",
       "    <tr style=\"text-align: right;\">\n",
       "      <th></th>\n",
       "      <th>age</th>\n",
       "      <th>gender</th>\n",
       "      <th>height</th>\n",
       "      <th>weight</th>\n",
       "      <th>ap_hi</th>\n",
       "      <th>ap_lo</th>\n",
       "      <th>cholesterol</th>\n",
       "      <th>gluc</th>\n",
       "      <th>smoke</th>\n",
       "      <th>alco</th>\n",
       "      <th>active</th>\n",
       "      <th>cardio</th>\n",
       "    </tr>\n",
       "  </thead>\n",
       "  <tbody>\n",
       "    <tr>\n",
       "      <th>0</th>\n",
       "      <td>50.391781</td>\n",
       "      <td>2</td>\n",
       "      <td>168</td>\n",
       "      <td>62.0</td>\n",
       "      <td>110</td>\n",
       "      <td>80</td>\n",
       "      <td>1</td>\n",
       "      <td>1</td>\n",
       "      <td>0</td>\n",
       "      <td>0</td>\n",
       "      <td>1</td>\n",
       "      <td>0</td>\n",
       "    </tr>\n",
       "    <tr>\n",
       "      <th>1</th>\n",
       "      <td>55.419178</td>\n",
       "      <td>1</td>\n",
       "      <td>156</td>\n",
       "      <td>85.0</td>\n",
       "      <td>140</td>\n",
       "      <td>90</td>\n",
       "      <td>3</td>\n",
       "      <td>1</td>\n",
       "      <td>0</td>\n",
       "      <td>0</td>\n",
       "      <td>1</td>\n",
       "      <td>1</td>\n",
       "    </tr>\n",
       "    <tr>\n",
       "      <th>2</th>\n",
       "      <td>51.663014</td>\n",
       "      <td>1</td>\n",
       "      <td>165</td>\n",
       "      <td>64.0</td>\n",
       "      <td>130</td>\n",
       "      <td>70</td>\n",
       "      <td>3</td>\n",
       "      <td>1</td>\n",
       "      <td>0</td>\n",
       "      <td>0</td>\n",
       "      <td>0</td>\n",
       "      <td>1</td>\n",
       "    </tr>\n",
       "    <tr>\n",
       "      <th>3</th>\n",
       "      <td>48.282192</td>\n",
       "      <td>2</td>\n",
       "      <td>169</td>\n",
       "      <td>82.0</td>\n",
       "      <td>150</td>\n",
       "      <td>100</td>\n",
       "      <td>1</td>\n",
       "      <td>1</td>\n",
       "      <td>0</td>\n",
       "      <td>0</td>\n",
       "      <td>1</td>\n",
       "      <td>1</td>\n",
       "    </tr>\n",
       "    <tr>\n",
       "      <th>4</th>\n",
       "      <td>47.873973</td>\n",
       "      <td>1</td>\n",
       "      <td>156</td>\n",
       "      <td>56.0</td>\n",
       "      <td>100</td>\n",
       "      <td>60</td>\n",
       "      <td>1</td>\n",
       "      <td>1</td>\n",
       "      <td>0</td>\n",
       "      <td>0</td>\n",
       "      <td>0</td>\n",
       "      <td>0</td>\n",
       "    </tr>\n",
       "    <tr>\n",
       "      <th>...</th>\n",
       "      <td>...</td>\n",
       "      <td>...</td>\n",
       "      <td>...</td>\n",
       "      <td>...</td>\n",
       "      <td>...</td>\n",
       "      <td>...</td>\n",
       "      <td>...</td>\n",
       "      <td>...</td>\n",
       "      <td>...</td>\n",
       "      <td>...</td>\n",
       "      <td>...</td>\n",
       "      <td>...</td>\n",
       "    </tr>\n",
       "    <tr>\n",
       "      <th>95</th>\n",
       "      <td>50.438356</td>\n",
       "      <td>1</td>\n",
       "      <td>165</td>\n",
       "      <td>99.0</td>\n",
       "      <td>150</td>\n",
       "      <td>110</td>\n",
       "      <td>1</td>\n",
       "      <td>1</td>\n",
       "      <td>0</td>\n",
       "      <td>0</td>\n",
       "      <td>0</td>\n",
       "      <td>1</td>\n",
       "    </tr>\n",
       "    <tr>\n",
       "      <th>96</th>\n",
       "      <td>59.890411</td>\n",
       "      <td>2</td>\n",
       "      <td>170</td>\n",
       "      <td>100.0</td>\n",
       "      <td>120</td>\n",
       "      <td>80</td>\n",
       "      <td>1</td>\n",
       "      <td>1</td>\n",
       "      <td>0</td>\n",
       "      <td>0</td>\n",
       "      <td>0</td>\n",
       "      <td>1</td>\n",
       "    </tr>\n",
       "    <tr>\n",
       "      <th>97</th>\n",
       "      <td>47.569863</td>\n",
       "      <td>1</td>\n",
       "      <td>167</td>\n",
       "      <td>71.0</td>\n",
       "      <td>120</td>\n",
       "      <td>80</td>\n",
       "      <td>2</td>\n",
       "      <td>1</td>\n",
       "      <td>0</td>\n",
       "      <td>1</td>\n",
       "      <td>1</td>\n",
       "      <td>1</td>\n",
       "    </tr>\n",
       "    <tr>\n",
       "      <th>98</th>\n",
       "      <td>40.230137</td>\n",
       "      <td>2</td>\n",
       "      <td>171</td>\n",
       "      <td>61.0</td>\n",
       "      <td>110</td>\n",
       "      <td>70</td>\n",
       "      <td>1</td>\n",
       "      <td>1</td>\n",
       "      <td>0</td>\n",
       "      <td>0</td>\n",
       "      <td>1</td>\n",
       "      <td>0</td>\n",
       "    </tr>\n",
       "    <tr>\n",
       "      <th>99</th>\n",
       "      <td>46.616438</td>\n",
       "      <td>1</td>\n",
       "      <td>168</td>\n",
       "      <td>77.0</td>\n",
       "      <td>100</td>\n",
       "      <td>70</td>\n",
       "      <td>1</td>\n",
       "      <td>1</td>\n",
       "      <td>0</td>\n",
       "      <td>0</td>\n",
       "      <td>1</td>\n",
       "      <td>0</td>\n",
       "    </tr>\n",
       "  </tbody>\n",
       "</table>\n",
       "<p>100 rows × 12 columns</p>\n",
       "</div>"
      ],
      "text/plain": [
       "          age  gender  height  weight  ap_hi  ap_lo  cholesterol  gluc  smoke  \\\n",
       "0   50.391781       2     168    62.0    110     80            1     1      0   \n",
       "1   55.419178       1     156    85.0    140     90            3     1      0   \n",
       "2   51.663014       1     165    64.0    130     70            3     1      0   \n",
       "3   48.282192       2     169    82.0    150    100            1     1      0   \n",
       "4   47.873973       1     156    56.0    100     60            1     1      0   \n",
       "..        ...     ...     ...     ...    ...    ...          ...   ...    ...   \n",
       "95  50.438356       1     165    99.0    150    110            1     1      0   \n",
       "96  59.890411       2     170   100.0    120     80            1     1      0   \n",
       "97  47.569863       1     167    71.0    120     80            2     1      0   \n",
       "98  40.230137       2     171    61.0    110     70            1     1      0   \n",
       "99  46.616438       1     168    77.0    100     70            1     1      0   \n",
       "\n",
       "    alco  active  cardio  \n",
       "0      0       1       0  \n",
       "1      0       1       1  \n",
       "2      0       0       1  \n",
       "3      0       1       1  \n",
       "4      0       0       0  \n",
       "..   ...     ...     ...  \n",
       "95     0       0       1  \n",
       "96     0       0       1  \n",
       "97     1       1       1  \n",
       "98     0       1       0  \n",
       "99     0       1       0  \n",
       "\n",
       "[100 rows x 12 columns]"
      ]
     },
     "execution_count": 23,
     "metadata": {},
     "output_type": "execute_result"
    }
   ],
   "source": [
    "df=pd.read_csv(\"transformed_CVD_data.csv\")\n",
    "df.head(100)"
   ]
  },
  {
   "cell_type": "markdown",
   "id": "7deb777b",
   "metadata": {},
   "source": [
    "# Spliting Data into Train & Test Set"
   ]
  },
  {
   "cell_type": "code",
   "execution_count": 5,
   "id": "b9aeadc4",
   "metadata": {},
   "outputs": [],
   "source": [
    "y=df['cardio'] \n",
    "x=df.drop(['cardio'],axis=1)"
   ]
  },
  {
   "cell_type": "code",
   "execution_count": 6,
   "id": "b9f3f935",
   "metadata": {},
   "outputs": [],
   "source": [
    "# xtr : X Input Training Data\n",
    "# xts : X Input Testing Data\n",
    "# ytr : Y Traget Variable Input\n",
    "# yts : Y Target Variable Testing\n",
    "xtr,xts,ytr,yts=train_test_split(x,y,test_size=0.25,random_state=23,stratify=y)"
   ]
  },
  {
   "cell_type": "markdown",
   "id": "0de595b7",
   "metadata": {},
   "source": [
    "# Creating Pipeline"
   ]
  },
  {
   "cell_type": "code",
   "execution_count": 5,
   "id": "77646479",
   "metadata": {},
   "outputs": [],
   "source": [
    "LogisticRegressionPipeline=Pipeline([('scaler', StandardScaler()),\n",
    "                                     ('logistic_classifier', LogisticRegression())])"
   ]
  },
  {
   "cell_type": "code",
   "execution_count": null,
   "id": "c5258012",
   "metadata": {},
   "outputs": [],
   "source": [
    "RandomForestClassifierPipeline=Pipeline([('scaler', StandardScaler()),\n",
    "                                     ('rf', RandomForestClassifier(n_estimators=100,max_depth=5,min_samples_leaf=5,min_samples_split=3))])\n",
    "\n",
    "params= {\n",
    "'rf__n_estimators': [120, 140],\n",
    "'rf__max_depth': [30, 50],\n",
    "'rf__min_samples_split': [2, 3],\n",
    "'rf__min_samples_leaf': [3, 5],\n",
    "'rf__class_weight': [{0: 1, 1: 1}, {0: 1, 1:5},{0:1,1:3}, 'balanced']}\n",
    "\n",
    "rf_cv=GridSearchCV(RandomForestClassifierPipeline,param_grid=params ,scoring = 'roc_auc', cv = 3)\n",
    "rf_cv.fit(xtr, ytr)\n",
    "\n",
    "# Get the best hyperparameters\n",
    "best_params = rf_cv.best_params_\n",
    "\n",
    "# Print the best hyperparameters\n",
    "print(best_params)"
   ]
  },
  {
   "cell_type": "code",
   "execution_count": 6,
   "id": "96ce668d",
   "metadata": {},
   "outputs": [],
   "source": [
    "RandomForestClassifier_Pipeline=Pipeline([('scaler', StandardScaler()),\n",
    "                                     ('rf', RandomForestClassifier(class_weight= 'balanced', max_depth=50, min_samples_leaf= 5, min_samples_split=2, n_estimators=140))])\n"
   ]
  },
  {
   "cell_type": "code",
   "execution_count": 7,
   "id": "88cf3030",
   "metadata": {},
   "outputs": [],
   "source": [
    "SVMPipeline=Pipeline([('scaler', StandardScaler()),\n",
    "                      ('svm', SVC(gamma=\"scale\",C=5))])"
   ]
  },
  {
   "cell_type": "code",
   "execution_count": 8,
   "id": "75aa3bb0",
   "metadata": {},
   "outputs": [],
   "source": [
    "XGBClassifierPipeline=Pipeline([('scaler', StandardScaler()),\n",
    "                      ('model', XGBClassifier( gamma= 4.198875359789924, max_depth= 17, min_child_weight= 1, reg_alpha= 57))])"
   ]
  },
  {
   "cell_type": "code",
   "execution_count": 9,
   "id": "9c43e692",
   "metadata": {},
   "outputs": [],
   "source": [
    "GradientBoostingClassifierPipeline=Pipeline([('scaler', StandardScaler()),\n",
    "                                             ('gbc', GradientBoostingClassifier(learning_rate=0.1, min_samples_split=500,min_samples_leaf=50,max_depth=8,max_features='sqrt',subsample=0.8,random_state=10))])"
   ]
  },
  {
   "cell_type": "code",
   "execution_count": 10,
   "id": "57688791",
   "metadata": {},
   "outputs": [],
   "source": [
    "mypipeline=[LogisticRegressionPipeline, RandomForestClassifier_Pipeline, SVMPipeline, XGBClassifierPipeline, GradientBoostingClassifierPipeline]"
   ]
  },
  {
   "cell_type": "code",
   "execution_count": 23,
   "id": "8a085e3f",
   "metadata": {},
   "outputs": [
    {
     "name": "stdout",
     "output_type": "stream",
     "text": [
      "LogisticRegression() Test Acurracy: 0.7279973649538867\n",
      "RandomForestClassifier(max_depth=5, min_samples_leaf=5, min_samples_split=3) Test Acurracy: 0.7304347826086957\n",
      "SVC(C=5) Test Acurracy: 0.7333333333333333\n",
      "XGBClassifier(base_score=0.5, booster='gbtree', callbacks=None,\n",
      "              colsample_bylevel=1, colsample_bynode=1, colsample_bytree=1,\n",
      "              early_stopping_rounds=None, enable_categorical=False,\n",
      "              eval_metric=None, gamma=4.198875359789924, gpu_id=-1,\n",
      "              grow_policy='depthwise', importance_type=None,\n",
      "              interaction_constraints='', learning_rate=0.300000012,\n",
      "              max_bin=256, max_cat_to_onehot=4, max_delta_step=0, max_depth=17,\n",
      "              max_leaves=0, min_child_weight=1, missing=nan,\n",
      "              monotone_constraints='()', n_estimators=100, n_jobs=0,\n",
      "              num_parallel_tree=1, predictor='auto', random_state=0,\n",
      "              reg_alpha=57, reg_lambda=1, ...) Test Acurracy: 0.733399209486166\n",
      "GradientBoostingClassifier(max_depth=8, max_features='sqrt',\n",
      "                           min_samples_leaf=50, min_samples_split=500,\n",
      "                           random_state=10, subsample=0.8) Test Acurracy: 0.7355731225296442\n"
     ]
    }
   ],
   "source": [
    "mypipeline=[LogisticRegressionPipeline, RandomForestClassifierPipeline, SVMPipeline, XGBClassifierPipeline, GradientBoostingClassifierPipeline]\n",
    "for mypipe in mypipeline:\n",
    "    mypipe.fit(xtr,ytr)\n",
    "    cv=ShuffleSplit(n_splits=5,test_size=0.3,random_state=0)\n",
    "    scores = cross_val_score(mypipe, xtr, ytr, cv=cv)\n",
    "    print(\"{} Test Acurracy: {}\".format(mypipe[1], max(scores)))"
   ]
  },
  {
   "cell_type": "markdown",
   "id": "3a99cf4e",
   "metadata": {},
   "source": [
    "# Metrics Conclusive "
   ]
  },
  {
   "cell_type": "code",
   "execution_count": 24,
   "id": "9362e97f",
   "metadata": {},
   "outputs": [
    {
     "name": "stdout",
     "output_type": "stream",
     "text": [
      "SVC(C=5) Test Acurracy: 0.7333333333333333\n",
      "SVC(C=5) Classification Report:\n",
      "               precision    recall  f1-score   support\n",
      "\n",
      "           0       0.71      0.80      0.75      8608\n",
      "           1       0.76      0.66      0.70      8259\n",
      "\n",
      "    accuracy                           0.73     16867\n",
      "   macro avg       0.73      0.73      0.73     16867\n",
      "weighted avg       0.73      0.73      0.73     16867\n",
      "\n",
      "SVC(C=5) Confusion Matrix:\n",
      " [[6860 1748]\n",
      " [2812 5447]]\n"
     ]
    },
    {
     "data": {
      "text/plain": [
       "Text(8.222222222222223, 0.5, 'Predicted Value')"
      ]
     },
     "execution_count": 24,
     "metadata": {},
     "output_type": "execute_result"
    },
    {
     "data": {
      "image/png": "[encoded data removed]",
      "text/plain": [
       "<Figure size 300x300 with 2 Axes>"
      ]
     },
     "metadata": {},
     "output_type": "display_data"
    }
   ],
   "source": [
    "SVMPipeline.fit(xtr,ytr)\n",
    "cv=ShuffleSplit(n_splits=5,test_size=0.3,random_state=0)\n",
    "scores = cross_val_score(SVMPipeline, xtr, ytr, cv=cv)\n",
    "y_pred=SVMPipeline.predict(xts)\n",
    "print(\"{} Test Acurracy: {}\".format(SVMPipeline[1], max(scores)))\n",
    "\n",
    "print(\"{} Classification Report:\\n {}\".format(SVMPipeline[1], classification_report(yts,y_pred)))\n",
    "\n",
    "print(\"{} Confusion Matrix:\\n {}\".format(SVMPipeline[1], confusion_matrix(yts,y_pred)))\n",
    "plt.figure(figsize=(3,3))\n",
    "sns.heatmap(confusion_matrix(yts,y_pred),annot=True)\n",
    "plt.xlabel(\"Actual Value\")\n",
    "plt.ylabel(\"Predicted Value\")"
   ]
  },
  {
   "cell_type": "code",
   "execution_count": 25,
   "id": "cbf9afc2",
   "metadata": {},
   "outputs": [
    {
     "name": "stdout",
     "output_type": "stream",
     "text": [
      "XGBClassifier(base_score=0.5, booster='gbtree', callbacks=None,\n",
      "              colsample_bylevel=1, colsample_bynode=1, colsample_bytree=1,\n",
      "              early_stopping_rounds=None, enable_categorical=False,\n",
      "              eval_metric=None, gamma=4.198875359789924, gpu_id=-1,\n",
      "              grow_policy='depthwise', importance_type=None,\n",
      "              interaction_constraints='', learning_rate=0.300000012,\n",
      "              max_bin=256, max_cat_to_onehot=4, max_delta_step=0, max_depth=17,\n",
      "              max_leaves=0, min_child_weight=1, missing=nan,\n",
      "              monotone_constraints='()', n_estimators=100, n_jobs=0,\n",
      "              num_parallel_tree=1, predictor='auto', random_state=0,\n",
      "              reg_alpha=57, reg_lambda=1, ...) Test Acurracy: 0.733399209486166\n",
      "XGBClassifier(base_score=0.5, booster='gbtree', callbacks=None,\n",
      "              colsample_bylevel=1, colsample_bynode=1, colsample_bytree=1,\n",
      "              early_stopping_rounds=None, enable_categorical=False,\n",
      "              eval_metric=None, gamma=4.198875359789924, gpu_id=-1,\n",
      "              grow_policy='depthwise', importance_type=None,\n",
      "              interaction_constraints='', learning_rate=0.300000012,\n",
      "              max_bin=256, max_cat_to_onehot=4, max_delta_step=0, max_depth=17,\n",
      "              max_leaves=0, min_child_weight=1, missing=nan,\n",
      "              monotone_constraints='()', n_estimators=100, n_jobs=0,\n",
      "              num_parallel_tree=1, predictor='auto', random_state=0,\n",
      "              reg_alpha=57, reg_lambda=1, ...) Classification Report:\n",
      "               precision    recall  f1-score   support\n",
      "\n",
      "           0       0.72      0.76      0.74      8608\n",
      "           1       0.74      0.70      0.72      8259\n",
      "\n",
      "    accuracy                           0.73     16867\n",
      "   macro avg       0.73      0.73      0.73     16867\n",
      "weighted avg       0.73      0.73      0.73     16867\n",
      "\n",
      "XGBClassifier(base_score=0.5, booster='gbtree', callbacks=None,\n",
      "              colsample_bylevel=1, colsample_bynode=1, colsample_bytree=1,\n",
      "              early_stopping_rounds=None, enable_categorical=False,\n",
      "              eval_metric=None, gamma=4.198875359789924, gpu_id=-1,\n",
      "              grow_policy='depthwise', importance_type=None,\n",
      "              interaction_constraints='', learning_rate=0.300000012,\n",
      "              max_bin=256, max_cat_to_onehot=4, max_delta_step=0, max_depth=17,\n",
      "              max_leaves=0, min_child_weight=1, missing=nan,\n",
      "              monotone_constraints='()', n_estimators=100, n_jobs=0,\n",
      "              num_parallel_tree=1, predictor='auto', random_state=0,\n",
      "              reg_alpha=57, reg_lambda=1, ...) Confusion Matrix:\n",
      " [[6567 2041]\n",
      " [2503 5756]]\n"
     ]
    },
    {
     "data": {
      "text/plain": [
       "Text(8.222222222222223, 0.5, 'Predicted Value')"
      ]
     },
     "execution_count": 25,
     "metadata": {},
     "output_type": "execute_result"
    },
    {
     "data": {
      "image/png": "[encoded data removed]",
      "text/plain": [
       "<Figure size 300x300 with 2 Axes>"
      ]
     },
     "metadata": {},
     "output_type": "display_data"
    }
   ],
   "source": [
    "XGBClassifierPipeline.fit(xtr,ytr)\n",
    "cv=ShuffleSplit(n_splits=5,test_size=0.3,random_state=0)\n",
    "scores = cross_val_score(XGBClassifierPipeline, xtr, ytr, cv=cv)\n",
    "y_pred=XGBClassifierPipeline.predict(xts)\n",
    "print(\"{} Test Acurracy: {}\".format(XGBClassifierPipeline[1], max(scores)))\n",
    "\n",
    "print(\"{} Classification Report:\\n {}\".format(XGBClassifierPipeline[1], classification_report(yts,y_pred)))\n",
    "\n",
    "print(\"{} Confusion Matrix:\\n {}\".format(XGBClassifierPipeline[1], confusion_matrix(yts,y_pred)))\n",
    "plt.figure(figsize=(3,3))\n",
    "sns.heatmap(confusion_matrix(yts,y_pred),annot=True)\n",
    "plt.xlabel(\"Actual Value\")\n",
    "plt.ylabel(\"Predicted Value\")\n",
    "\n"
   ]
  },
  {
   "cell_type": "code",
   "execution_count": 26,
   "id": "b45ed026",
   "metadata": {},
   "outputs": [
    {
     "name": "stdout",
     "output_type": "stream",
     "text": [
      "GradientBoostingClassifier(max_depth=8, max_features='sqrt',\n",
      "                           min_samples_leaf=50, min_samples_split=500,\n",
      "                           random_state=10, subsample=0.8) Test Acurracy: 0.7355731225296442\n",
      "GradientBoostingClassifier(max_depth=8, max_features='sqrt',\n",
      "                           min_samples_leaf=50, min_samples_split=500,\n",
      "                           random_state=10, subsample=0.8) Classification Report:\n",
      "               precision    recall  f1-score   support\n",
      "\n",
      "           0       0.72      0.78      0.75      8608\n",
      "           1       0.75      0.69      0.72      8259\n",
      "\n",
      "    accuracy                           0.73     16867\n",
      "   macro avg       0.73      0.73      0.73     16867\n",
      "weighted avg       0.73      0.73      0.73     16867\n",
      "\n",
      "GradientBoostingClassifier(max_depth=8, max_features='sqrt',\n",
      "                           min_samples_leaf=50, min_samples_split=500,\n",
      "                           random_state=10, subsample=0.8) Confusion Matrix:\n",
      " [[6680 1928]\n",
      " [2575 5684]]\n"
     ]
    },
    {
     "data": {
      "text/plain": [
       "Text(8.222222222222223, 0.5, 'Predicted Value')"
      ]
     },
     "execution_count": 26,
     "metadata": {},
     "output_type": "execute_result"
    },
    {
     "data": {
      "image/png": "[encoded data removed]",
      "text/plain": [
       "<Figure size 300x300 with 2 Axes>"
      ]
     },
     "metadata": {},
     "output_type": "display_data"
    }
   ],
   "source": [
    "GradientBoostingClassifierPipeline.fit(xtr,ytr)\n",
    "cv=ShuffleSplit(n_splits=5,test_size=0.3,random_state=0)\n",
    "scores = cross_val_score(GradientBoostingClassifierPipeline, xtr, ytr, cv=cv)\n",
    "y_pred=GradientBoostingClassifierPipeline.predict(xts)\n",
    "print(\"{} Test Acurracy: {}\".format(GradientBoostingClassifierPipeline[1], max(scores)))\n",
    "\n",
    "print(\"{} Classification Report:\\n {}\".format(GradientBoostingClassifierPipeline[1], classification_report(yts,y_pred)))\n",
    "\n",
    "print(\"{} Confusion Matrix:\\n {}\".format(GradientBoostingClassifierPipeline[1], confusion_matrix(yts,y_pred)))\n",
    "plt.figure(figsize=(3,3))\n",
    "sns.heatmap(confusion_matrix(yts,y_pred),annot=True)\n",
    "plt.xlabel(\"Actual Value\")\n",
    "plt.ylabel(\"Predicted Value\")\n",
    "\n"
   ]
  },
  {
   "cell_type": "code",
   "execution_count": 27,
   "id": "4aebde87",
   "metadata": {},
   "outputs": [
    {
     "name": "stdout",
     "output_type": "stream",
     "text": [
      "MultinomialNB() Test Acurracy: 0.7077733860342555\n",
      "MultinomialNB() Classification Report:\n",
      "               precision    recall  f1-score   support\n",
      "\n",
      "           0       0.69      0.78      0.73      8608\n",
      "           1       0.73      0.63      0.68      8259\n",
      "\n",
      "    accuracy                           0.71     16867\n",
      "   macro avg       0.71      0.70      0.70     16867\n",
      "weighted avg       0.71      0.71      0.70     16867\n",
      "\n",
      "MultinomialNB() Confusion Matrix:\n",
      " [[6680 1928]\n",
      " [3046 5213]]\n"
     ]
    },
    {
     "data": {
      "text/plain": [
       "Text(8.222222222222223, 0.5, 'Predicted Value')"
      ]
     },
     "execution_count": 27,
     "metadata": {},
     "output_type": "execute_result"
    },
    {
     "data": {
      "image/png": "[encoded data removed]",
      "text/plain": [
       "<Figure size 300x300 with 2 Axes>"
      ]
     },
     "metadata": {},
     "output_type": "display_data"
    }
   ],
   "source": [
    "from sklearn.naive_bayes import MultinomialNB\n",
    "model = MultinomialNB()\n",
    "model.fit(xtr, ytr)\n",
    "\n",
    "cv=ShuffleSplit(n_splits=5,test_size=0.3,random_state=0)\n",
    "scores = cross_val_score(model, xtr, ytr, cv=cv)\n",
    "y_pred=model.predict(xts)\n",
    "print(\"{} Test Acurracy: {}\".format(model, max(scores)))\n",
    "\n",
    "print(\"{} Classification Report:\\n {}\".format(model, classification_report(yts,y_pred)))\n",
    "\n",
    "print(\"{} Confusion Matrix:\\n {}\".format(model, confusion_matrix(yts,y_pred)))\n",
    "plt.figure(figsize=(3,3))\n",
    "sns.heatmap(confusion_matrix(yts,y_pred),annot=True)\n",
    "plt.xlabel(\"Actual Value\")\n",
    "plt.ylabel(\"Predicted Value\")\n",
    "\n"
   ]
  },
  {
   "cell_type": "code",
   "execution_count": 28,
   "id": "5d0d96f0",
   "metadata": {},
   "outputs": [
    {
     "name": "stdout",
     "output_type": "stream",
     "text": [
      "ComplementNB() Test Acurracy: 0.7080368906455863\n",
      "ComplementNB() Classification Report:\n",
      "               precision    recall  f1-score   support\n",
      "\n",
      "           0       0.69      0.76      0.73      8608\n",
      "           1       0.72      0.65      0.68      8259\n",
      "\n",
      "    accuracy                           0.71     16867\n",
      "   macro avg       0.71      0.70      0.70     16867\n",
      "weighted avg       0.71      0.71      0.70     16867\n",
      "\n",
      "ComplementNB() Confusion Matrix:\n",
      " [[6568 2040]\n",
      " [2927 5332]]\n"
     ]
    },
    {
     "data": {
      "text/plain": [
       "Text(8.222222222222223, 0.5, 'Predicted Value')"
      ]
     },
     "execution_count": 28,
     "metadata": {},
     "output_type": "execute_result"
    },
    {
     "data": {
      "image/png": "[encoded data removed]",
      "text/plain": [
       "<Figure size 300x300 with 2 Axes>"
      ]
     },
     "metadata": {},
     "output_type": "display_data"
    }
   ],
   "source": [
    "from sklearn.naive_bayes import ComplementNB\n",
    "model = ComplementNB()\n",
    "model.fit(xtr, ytr)\n",
    "\n",
    "cv=ShuffleSplit(n_splits=5,test_size=0.3,random_state=0)\n",
    "scores = cross_val_score(model, xtr, ytr, cv=cv)\n",
    "y_pred=model.predict(xts)\n",
    "print(\"{} Test Acurracy: {}\".format(model, max(scores)))\n",
    "\n",
    "print(\"{} Classification Report:\\n {}\".format(model, classification_report(yts,y_pred)))\n",
    "\n",
    "print(\"{} Confusion Matrix:\\n {}\".format(model, confusion_matrix(yts,y_pred)))\n",
    "plt.figure(figsize=(3,3))\n",
    "sns.heatmap(confusion_matrix(yts,y_pred),annot=True)\n",
    "plt.xlabel(\"Actual Value\")\n",
    "plt.ylabel(\"Predicted Value\")\n",
    "\n"
   ]
  },
  {
   "cell_type": "code",
   "execution_count": 29,
   "id": "7b221960",
   "metadata": {},
   "outputs": [
    {
     "name": "stdout",
     "output_type": "stream",
     "text": [
      "GaussianNB() Test Acurracy: 0.7170619235836627\n",
      "GaussianNB() Classification Report:\n",
      "               precision    recall  f1-score   support\n",
      "\n",
      "           0       0.69      0.81      0.74      8608\n",
      "           1       0.76      0.62      0.68      8259\n",
      "\n",
      "    accuracy                           0.72     16867\n",
      "   macro avg       0.72      0.71      0.71     16867\n",
      "weighted avg       0.72      0.72      0.71     16867\n",
      "\n",
      "GaussianNB() Confusion Matrix:\n",
      " [[6986 1622]\n",
      " [3168 5091]]\n"
     ]
    },
    {
     "data": {
      "text/plain": [
       "Text(8.222222222222223, 0.5, 'Predicted Value')"
      ]
     },
     "execution_count": 29,
     "metadata": {},
     "output_type": "execute_result"
    },
    {
     "data": {
      "image/png": "[encoded data removed]",
      "text/plain": [
       "<Figure size 300x300 with 2 Axes>"
      ]
     },
     "metadata": {},
     "output_type": "display_data"
    }
   ],
   "source": [
    "from sklearn.naive_bayes import GaussianNB\n",
    "model = GaussianNB()\n",
    "model.fit(xtr, ytr)\n",
    "\n",
    "cv=ShuffleSplit(n_splits=5,test_size=0.3,random_state=0)\n",
    "scores = cross_val_score(model, xtr, ytr, cv=cv)\n",
    "y_pred=model.predict(xts)\n",
    "print(\"{} Test Acurracy: {}\".format(model, max(scores)))\n",
    "\n",
    "print(\"{} Classification Report:\\n {}\".format(model, classification_report(yts,y_pred)))\n",
    "\n",
    "print(\"{} Confusion Matrix:\\n {}\".format(model, confusion_matrix(yts,y_pred)))\n",
    "plt.figure(figsize=(3,3))\n",
    "sns.heatmap(confusion_matrix(yts,y_pred),annot=True)\n",
    "plt.xlabel(\"Actual Value\")\n",
    "plt.ylabel(\"Predicted Value\")\n",
    "\n"
   ]
  },
  {
   "cell_type": "markdown",
   "id": "310f892f",
   "metadata": {},
   "source": [
    "# Thresholding Classification Modelling"
   ]
  },
  {
   "cell_type": "code",
   "execution_count": 16,
   "id": "aa27c0d5",
   "metadata": {},
   "outputs": [],
   "source": [
    "import pandas as pd\n",
    "from sklearn.svm import SVC\n",
    "from sklearn.metrics import accuracy_score#, specificity_score\n",
    "\n",
    "# Train the SVM model\n",
    "svm_model = SVC(gamma=\"scale\",C=5,probability=True)\n",
    "svm_model.fit(xtr,ytr)\n",
    "\n",
    "# Make predictions on the test data\n",
    "y_pred = svm_model.predict(xts)\n",
    "accuracy = accuracy_score(yts, y_pred)"
   ]
  },
  {
   "cell_type": "code",
   "execution_count": 32,
   "id": "7456aab6",
   "metadata": {},
   "outputs": [
    {
     "name": "stdout",
     "output_type": "stream",
     "text": [
      "\n",
      "Patient 1: Negative for cardiovascular disorder\n",
      "\n",
      "Probability of cardiovascular disorder: 0.479\n",
      "\n",
      "Accuracy: 0.725\n",
      "\n"
     ]
    },
    {
     "name": "stderr",
     "output_type": "stream",
     "text": [
      "C:\\Users\\dhruv\\anaconda3\\lib\\site-packages\\sklearn\\base.py:450: UserWarning: X does not have valid feature names, but SVC was fitted with feature names\n",
      "  warnings.warn(\n",
      "C:\\Users\\dhruv\\anaconda3\\lib\\site-packages\\sklearn\\base.py:450: UserWarning: X does not have valid feature names, but SVC was fitted with feature names\n",
      "  warnings.warn(\n"
     ]
    }
   ],
   "source": [
    "def classifier(data,threshold):\n",
    "    y_pred_pat = svm_model.predict(data)\n",
    "\n",
    "    # Evaluate the model's performance\n",
    "\n",
    "    #sensitivity = sensitivity_score(yts, y_pred)\n",
    "    #specificity = specificity_score(yts, y_pred)\n",
    "\n",
    "    # Present the classifier's output for each test sample\n",
    "    for i, prediction in enumerate(y_pred_pat):\n",
    "        probability = svm_model.predict_proba(data)\n",
    "\n",
    "        if probability[0][prediction] >= threshold and prediction == 1:\n",
    "            classification_result = \"Positive for cardiovascular disorder\"\n",
    "        else:\n",
    "            classification_result = \"Negative for cardiovascular disorder\"\n",
    "\n",
    "        print( f\"\\nPatient {i + 1}: {classification_result}\\n\")\n",
    "        print( f\"Probability of cardiovascular disorder: {probability[0][prediction]:.3f}\\n\")\n",
    "        print( f\"Accuracy: {accuracy:.3f}\\n\")\n",
    "        #output += f\"Sensitivity: {sensitivity:.3f}\\n\"\n",
    "        #output += f\"Specificity: {specificity:.3f}\\n\"\n",
    "\n",
    "        break\n",
    "\n",
    "classifier(data=[[60.03835,61,151,67.0,120,80,2,2,0,0,0]],threshold=0.8)"
   ]
  },
  {
   "cell_type": "code",
   "execution_count": 35,
   "id": "e3b788eb",
   "metadata": {},
   "outputs": [
    {
     "name": "stdout",
     "output_type": "stream",
     "text": [
      "\n",
      "Patient 1: Negative for cardiovascular disorder\n",
      "\n",
      "Probability of cardiovascular disorder: 0.798\n",
      "\n",
      "Accuracy: 0.725\n",
      "\n"
     ]
    },
    {
     "name": "stderr",
     "output_type": "stream",
     "text": [
      "C:\\Users\\dhruv\\anaconda3\\lib\\site-packages\\sklearn\\base.py:450: UserWarning: X does not have valid feature names, but SVC was fitted with feature names\n",
      "  warnings.warn(\n",
      "C:\\Users\\dhruv\\anaconda3\\lib\\site-packages\\sklearn\\base.py:450: UserWarning: X does not have valid feature names, but SVC was fitted with feature names\n",
      "  warnings.warn(\n"
     ]
    }
   ],
   "source": [
    "classifier(data=[[61.873973,2,178,95.0,130,90,3,3,0,0,1]],threshold=0.8)"
   ]
  },
  {
   "cell_type": "code",
   "execution_count": 29,
   "id": "2fbd65d5",
   "metadata": {},
   "outputs": [
    {
     "name": "stdout",
     "output_type": "stream",
     "text": [
      "\n",
      "Patient 1: Positive for cardiovascular disorder\n",
      "\n",
      "Probability of cardiovascular disorder: 0.854\n",
      "\n",
      "Accuracy: 0.725\n",
      "\n"
     ]
    },
    {
     "name": "stderr",
     "output_type": "stream",
     "text": [
      "C:\\Users\\dhruv\\anaconda3\\lib\\site-packages\\sklearn\\base.py:450: UserWarning: X does not have valid feature names, but SVC was fitted with feature names\n",
      "  warnings.warn(\n",
      "C:\\Users\\dhruv\\anaconda3\\lib\\site-packages\\sklearn\\base.py:450: UserWarning: X does not have valid feature names, but SVC was fitted with feature names\n",
      "  warnings.warn(\n"
     ]
    }
   ],
   "source": [
    "classifier([[55.419178,1,156,85.0,140,90,3,1,0,0,1]],0.8)"
   ]
  },
  {
   "cell_type": "code",
   "execution_count": 30,
   "id": "fd3a7446",
   "metadata": {},
   "outputs": [
    {
     "name": "stderr",
     "output_type": "stream",
     "text": [
      "C:\\Users\\dhruv\\anaconda3\\lib\\site-packages\\sklearn\\base.py:450: UserWarning: X does not have valid feature names, but SVC was fitted with feature names\n",
      "  warnings.warn(\n"
     ]
    },
    {
     "name": "stdout",
     "output_type": "stream",
     "text": [
      "\n",
      "Patient 1: Negative for cardiovascular disorder\n",
      "\n",
      "Probability of cardiovascular disorder: 0.867\n",
      "\n",
      "Accuracy: 0.725\n",
      "\n"
     ]
    },
    {
     "name": "stderr",
     "output_type": "stream",
     "text": [
      "C:\\Users\\dhruv\\anaconda3\\lib\\site-packages\\sklearn\\base.py:450: UserWarning: X does not have valid feature names, but SVC was fitted with feature names\n",
      "  warnings.warn(\n"
     ]
    }
   ],
   "source": [
    "classifier([[40.230137,2,171,61.0,110,70,1,1,0,0,1]],0.8)"
   ]
  },
  {
   "cell_type": "markdown",
   "id": "2493855a",
   "metadata": {},
   "source": [
    "# Model Saved"
   ]
  },
  {
   "cell_type": "code",
   "execution_count": 36,
   "id": "198a2ee4",
   "metadata": {},
   "outputs": [
    {
     "data": {
      "text/plain": [
       "['model.pkl']"
      ]
     },
     "execution_count": 36,
     "metadata": {},
     "output_type": "execute_result"
    }
   ],
   "source": [
    "import joblib\n",
    "\n",
    "# Save the trained model\n",
    "joblib.dump(svm_model, 'model.pkl')"
   ]
  },
  {
   "cell_type": "code",
   "execution_count": 37,
   "id": "180688e5",
   "metadata": {},
   "outputs": [],
   "source": [
    "# Load the saved model\n",
    "model = joblib.load('model.pkl')"
   ]
  },
  {
   "cell_type": "code",
   "execution_count": null,
   "id": "8d1faa9e",
   "metadata": {},
   "outputs": [],
   "source": []
  }
 ],
 "metadata": {
  "kernelspec": {
   "display_name": "Python 3 (ipykernel)",
   "language": "python",
   "name": "python3"
  },
  "language_info": {
   "codemirror_mode": {
    "name": "ipython",
    "version": 3
   },
   "file_extension": ".py",
   "mimetype": "text/x-python",
   "name": "python",
   "nbconvert_exporter": "python",
   "pygments_lexer": "ipython3",
   "version": "3.9.12"
  }
 },
 "nbformat": 4,
 "nbformat_minor": 5
}
